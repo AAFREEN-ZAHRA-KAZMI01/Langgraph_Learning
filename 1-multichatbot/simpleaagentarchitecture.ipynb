{
 "cells": [
  {
   "cell_type": "markdown",
   "id": "b7586c9e",
   "metadata": {},
   "source": [
    "## Simple MULTI AI Agent Architecture"
   ]
  },
  {
   "cell_type": "code",
   "execution_count": 1,
   "id": "24cb9288",
   "metadata": {},
   "outputs": [],
   "source": [
    "import os\n",
    "from typing import TypedDict, Annotated, List, Literal\n",
    "from langchain_core.messages import BaseMessage, AIMessage, SystemMessage\n",
    "from langchain_groq import ChatGroq\n",
    "from langchain_core.tools import tool  \n",
    "from langchain_community.tools.tavily_search import TavilySearchResults \n",
    "from langgraph.graph import StateGraph, END\n",
    "from langgraph.prebuilt import create_react_agent\n",
    "from langgraph.checkpoint.memory import MemorySaver\n"
   ]
  },
  {
   "cell_type": "code",
   "execution_count": 2,
   "id": "d9a31b8d",
   "metadata": {},
   "outputs": [],
   "source": [
    "import os \n",
    "from dotenv import load_dotenv\n",
    "load_dotenv()\n",
    "\n",
    "os.environ[\"GROQ_API_KEY\"]=os.getenv(\"GROQ_API_KEY\")"
   ]
  },
  {
   "cell_type": "code",
   "execution_count": 3,
   "id": "a135ad8e",
   "metadata": {},
   "outputs": [],
   "source": [
    "from langgraph.graph import StateGraph, END,MessagesState\n",
    "from langgraph.checkpoint.memory import MemorySaver\n",
    "from langgraph.prebuilt import ToolNode"
   ]
  },
  {
   "cell_type": "code",
   "execution_count": 4,
   "id": "243860f5",
   "metadata": {},
   "outputs": [],
   "source": [
    "#Define the State\n",
    "class AgentState(MessagesState):\n",
    "    next_agent:str #which agent should go next"
   ]
  },
  {
   "cell_type": "code",
   "execution_count": 5,
   "id": "976346a9",
   "metadata": {},
   "outputs": [],
   "source": [
    "#Sample Tool\n",
    "@tool\n",
    "def search_web(query:str)->str:\n",
    "    \"\"\"Search the web for information. \"\"\"\n",
    "    #using tavily for web search \n",
    "    search=TavilySearchResults(max_result=3)\n",
    "    results=search.invoke(query)\n",
    "    return str(results)\n",
    "\n",
    "\n",
    "@tool\n",
    "def write_summary(content:str)->str:\n",
    "    \"\"\" write a sumary of the porvuded content.\"\"\"\n",
    "    #3 simple summary generation\n",
    "    summary=f\"sumary of findings:\\n\\n{content[:500]}...\"\n",
    "    return summary"
   ]
  },
  {
   "cell_type": "code",
   "execution_count": 6,
   "id": "fe9239a8",
   "metadata": {},
   "outputs": [
    {
     "data": {
      "text/plain": [
       "ChatGroq(client=<groq.resources.chat.completions.Completions object at 0x00000158A6568AD0>, async_client=<groq.resources.chat.completions.AsyncCompletions object at 0x00000158A65696A0>, model_name='llama-3.1-8b-instant', model_kwargs={}, groq_api_key=SecretStr('**********'))"
      ]
     },
     "execution_count": 6,
     "metadata": {},
     "output_type": "execute_result"
    }
   ],
   "source": [
    " from langchain.chat_models import init_chat_model\n",
    " llm=init_chat_model(\"groq:llama-3.1-8b-instant\")\n",
    " llm"
   ]
  },
  {
   "cell_type": "code",
   "execution_count": 7,
   "id": "22fc9a88",
   "metadata": {},
   "outputs": [],
   "source": [
    " ## Defining the Researcher Funtions(Simpler Approach)\n",
    " def researcher_agent(state:AgentState):\n",
    "    \"\"\"Researcher agent that searcher for information\"\"\"\n",
    "    messages=state[\"messages\"]\n",
    "    ##Add system message for content\n",
    "    system_msg=SystemMessage(content=\"You are a research assistant.Use the search_web tool for information about the user's request\")\n",
    "    # Call LLM with Tools\n",
    "    researcher_llm=llm.bind_tools([search_web])\n",
    "    response=researcher_llm.invoke([system_msg]+messages)\n",
    "    #return the respose and route to writer\n",
    "    return {\n",
    "        \"messages\":[response],\n",
    "        \"next_agent\":\"writer\"\n",
    "    }"
   ]
  },
  {
   "cell_type": "code",
   "execution_count": 8,
   "id": "94ef8f25",
   "metadata": {},
   "outputs": [],
   "source": [
    "def writer_agent(state:AgentState):\n",
    "    \"\"\"Writer agent that creates summaries\"\"\"\n",
    "    messages=state[\"messages\"]\n",
    "    # Add system message\n",
    "    system_msg=SystemMessage(content=\"You are a technical writter.Review the conversation and create a clear,concise summary of the findings\")\n",
    "    # simple compleion without tools\n",
    "    response=llm.invoke([system_msg]+messages)\n",
    "    return{\n",
    "        \"messages\":[response],\n",
    "        \"next_agent\":\"end\"\n",
    "    }"
   ]
  },
  {
   "cell_type": "code",
   "execution_count": 9,
   "id": "19d1d932",
   "metadata": {},
   "outputs": [],
   "source": [
    "# Tool Executer Node\n",
    "def execute_tools(state:AgentState):\n",
    "    \"\"\" Execute any pending tool calls\"\"\"\n",
    "    messages=state[\"messages\"]\n",
    "    last_message=messages[-1]\n",
    "    #check if there are tool calls to execute\n",
    "    if hasattr(last_message,\"tool_calls\")and last_message.tool_calls:\n",
    "        #craete tool node and execute\n",
    "        tool_node=ToolNode([search_web,write_summary])\n",
    "        response=tool_node.invoke(state)\n",
    "        return response\n",
    "\n",
    "\n",
    "        # no tools to execute\n",
    "        return state"
   ]
  },
  {
   "cell_type": "code",
   "execution_count": 10,
   "id": "ac752da7",
   "metadata": {},
   "outputs": [
    {
     "name": "stdout",
     "output_type": "stream",
     "text": [
      "<langgraph.graph.state.CompiledStateGraph object at 0x00000158A656A900>\n"
     ]
    },
    {
     "data": {
      "image/png": "[encoded data removed]",
      "text/plain": [
       "<langgraph.graph.state.CompiledStateGraph object at 0x00000158A656A900>"
      ]
     },
     "execution_count": 10,
     "metadata": {},
     "output_type": "execute_result"
    }
   ],
   "source": [
    "#Build grpah\n",
    "workflow=StateGraph(MessagesState)\n",
    "# Add nodes\n",
    "workflow.add_node(\"researcher\",researcher_agent)\n",
    "workflow.add_node(\"writer\",writer_agent)\n",
    "\n",
    "# Define Flow\n",
    "workflow.set_entry_point(\"researcher\")\n",
    "workflow.add_edge(\"researcher\",\"writer\")\n",
    "workflow.add_edge(\"writer\",END)\n",
    "final_workflow=workflow.compile()\n",
    "print(final_workflow)\n",
    "final_workflow"
   ]
  },
  {
   "cell_type": "code",
   "execution_count": 11,
   "id": "fefb7c7a",
   "metadata": {},
   "outputs": [
    {
     "data": {
      "text/plain": [
       "{'messages': [HumanMessage(content='Research about the usage of agentic ai in business', additional_kwargs={}, response_metadata={}, id='bdde59b0-6828-4b8c-a9e1-cc70f6ca3060'),\n",
       "  AIMessage(content='', additional_kwargs={'tool_calls': [{'id': '0vbmthcwf', 'function': {'arguments': '{\"query\":\"agentic AI in business usage\"}', 'name': 'search_web'}, 'type': 'function'}]}, response_metadata={'token_usage': {'completion_tokens': 19, 'prompt_tokens': 237, 'total_tokens': 256, 'completion_time': 0.03229645, 'prompt_time': 0.014078492, 'queue_time': 0.048473737, 'total_time': 0.046374942}, 'model_name': 'llama-3.1-8b-instant', 'system_fingerprint': 'fp_510c177af0', 'service_tier': 'on_demand', 'finish_reason': 'tool_calls', 'logprobs': None}, id='run--72678d0d-b329-4aaa-9785-f85d4413db0d-0', tool_calls=[{'name': 'search_web', 'args': {'query': 'agentic AI in business usage'}, 'id': '0vbmthcwf', 'type': 'tool_call'}], usage_metadata={'input_tokens': 237, 'output_tokens': 19, 'total_tokens': 256}),\n",
       "  AIMessage(content=' \\n\\n**Summary of Findings:**\\n\\nAgentic AI, also known as autonomous AI, is a type of artificial intelligence that can act on its own, making decisions and taking actions without human intervention. In the business context, agentic AI is being increasingly adopted to automate tasks, improve efficiency, and drive innovation.\\n\\n**Key Findings:**\\n\\n1. **Automation and Efficiency**: Agentic AI is being used to automate routine tasks, freeing up human resources for more strategic and creative work. According to a McKinsey report, AI can automate up to 30% of business processes, improving efficiency and reducing costs.\\n2. **Decision-Making**: Agentic AI is being used to analyze complex data and make decisions in real-time, without human intervention. For example, AI-powered chatbots are being used to handle customer inquiries and provide personalized recommendations.\\n3. **Innovation**: Agentic AI is being used to drive innovation in business, by analyzing data and identifying new opportunities. For example, AI-powered predictive analytics are being used to identify new markets and customer segments.\\n4. **Risk Management**: Agentic AI is being used to manage risk in business, by analyzing data and identifying potential threats. For example, AI-powered cybersecurity systems are being used to detect and prevent cyber attacks.\\n5. **Ethics and Governance**: As agentic AI becomes more prevalent in business, there are concerns about ethics and governance. For example, there are concerns about bias in AI decision-making and the need for transparency and accountability.\\n\\n**Industry Adoption:**\\n\\n1. **Finance**: Agentic AI is being used in finance to automate tasks, improve risk management, and drive innovation.\\n2. **Healthcare**: Agentic AI is being used in healthcare to improve patient outcomes, reduce costs, and drive innovation.\\n3. **Retail**: Agentic AI is being used in retail to improve customer experience, drive sales, and reduce costs.\\n4. **Manufacturing**: Agentic AI is being used in manufacturing to improve efficiency, reduce costs, and drive innovation.\\n\\n**Best Practices:**\\n\\n1. **Data Quality**: Ensure that data is accurate, complete, and relevant to AI decision-making.\\n2. **Model Explainability**: Ensure that AI models are transparent and explainable, to build trust and accountability.\\n3. **Human Oversight**: Ensure that human oversight and monitoring are in place, to prevent errors and bias.\\n4. **Continuous Learning**: Ensure that AI systems are continuously learning and improving, to stay up-to-date with changing business needs.\\n\\n**Conclusion:**\\n\\nAgentic AI is being increasingly adopted in business, to automate tasks, improve efficiency, and drive innovation. However, there are concerns about ethics and governance, and the need for transparency and accountability. To maximize the benefits of agentic AI, businesses should ensure data quality, model explainability, human oversight, and continuous learning.', additional_kwargs={}, response_metadata={'token_usage': {'completion_tokens': 576, 'prompt_tokens': 84, 'total_tokens': 660, 'completion_time': 0.768, 'prompt_time': 0.00497202, 'queue_time': 0.04908836, 'total_time': 0.77297202}, 'model_name': 'llama-3.1-8b-instant', 'system_fingerprint': 'fp_8ab2e50475', 'service_tier': 'on_demand', 'finish_reason': 'stop', 'logprobs': None}, id='run--4e9a9003-7148-4476-9244-dedf82b54119-0', usage_metadata={'input_tokens': 84, 'output_tokens': 576, 'total_tokens': 660})]}"
      ]
     },
     "execution_count": 11,
     "metadata": {},
     "output_type": "execute_result"
    }
   ],
   "source": [
    "final_workflow.invoke({\n",
    "    \"messages\": [\n",
    "        {\"role\": \"user\", \"content\": \"Research about the usage of agentic ai in business\"}\n",
    "    ]\n",
    "})\n"
   ]
  },
  {
   "cell_type": "code",
   "execution_count": 12,
   "id": "58c8ee4f",
   "metadata": {},
   "outputs": [
    {
     "data": {
      "text/plain": [
       "{'messages': [HumanMessage(content='Research about the tools and technolgies apple company is using', additional_kwargs={}, response_metadata={}, id='fd3e5164-c27e-4943-9c31-716e6639cfe7'),\n",
       "  AIMessage(content='', additional_kwargs={'tool_calls': [{'id': 'fx7pw93fm', 'function': {'arguments': '{\"query\":\"Apple company tools and technologies\"}', 'name': 'search_web'}, 'type': 'function'}]}, response_metadata={'token_usage': {'completion_tokens': 18, 'prompt_tokens': 239, 'total_tokens': 257, 'completion_time': 0.031597423, 'prompt_time': 0.014129743, 'queue_time': 0.049235717, 'total_time': 0.045727166}, 'model_name': 'llama-3.1-8b-instant', 'system_fingerprint': 'fp_8ab2e50475', 'service_tier': 'on_demand', 'finish_reason': 'tool_calls', 'logprobs': None}, id='run--d3b2095c-9b6d-4eec-bba4-d4b06334baa5-0', tool_calls=[{'name': 'search_web', 'args': {'query': 'Apple company tools and technologies'}, 'id': 'fx7pw93fm', 'type': 'tool_call'}], usage_metadata={'input_tokens': 239, 'output_tokens': 18, 'total_tokens': 257}),\n",
       "  AIMessage(content=\" \\n\\n**Summary of Findings:**\\n\\nApple is utilizing a wide range of cutting-edge tools and technologies across its various product lines, including hardware, software, and services. Here are some of the key findings:\\n\\n**Hardware:**\\n\\n1. **ARM-based processors**: Apple has transitioned to its own ARM-based processors in Macs, iPhones, and iPads, offering improved performance, power efficiency, and security.\\n2. **M1 and M2 chips**: Apple's M1 and M2 chips provide a significant boost in speed and efficiency, enabling features like universal control and improved graphics capabilities.\\n3. **Advanced displays**: Apple's high-resolution displays, such as OLED and Super Retina XDR, offer exceptional image quality, contrast, and color accuracy.\\n\\n**Software:**\\n\\n1. **iOS**: Apple's mobile operating system provides a seamless user experience, integrating features like Face ID, Touch ID, and Siri.\\n2. **macOS**: Apple's desktop operating system offers a robust and secure environment for productivity, creativity, and entertainment.\\n3. **watchOS**: Apple's watch operating system enables a wide range of health, fitness, and lifestyle features on Apple Watch devices.\\n\\n**Services:**\\n\\n1. **CloudKit**: Apple's CloudKit platform provides a secure and scalable infrastructure for cloud storage, authentication, and data synchronization.\\n2. **Swift**: Apple's Swift programming language enables efficient and secure app development, with features like automatic memory management and type safety.\\n3. **Core ML**: Apple's Core ML framework provides a high-performance machine learning platform for integrating AI and ML capabilities into Apple devices.\\n\\n**Artificial Intelligence and Machine Learning:**\\n\\n1. **Core ML**: Apple's Core ML framework enables developers to integrate AI and ML capabilities into Apple devices, using models like Siri, Face ID, and Apple Pay.\\n2. **ML Kit**: Apple's ML Kit provides a suite of machine learning tools for developers, including image recognition, natural language processing, and object detection.\\n\\n**Security:**\\n\\n1. **Secure Enclave**: Apple's Secure Enclave provides a secure environment for sensitive data, such as Face ID and Touch ID biometric data.\\n2. **Hardware-based security**: Apple's hardware-based security features, like the T2 chip and Secure Enclave, provide robust protection against malware and unauthorized access.\\n\\n**Other Technologies:**\\n\\n1. **ARKit**: Apple's ARKit platform enables developers to create augmented reality experiences on Apple devices, using features like camera and display integration.\\n2. **HomeKit**: Apple's HomeKit platform provides a secure and seamless way to control and automate smart home devices.\\n\\nThese are just a few examples of the many tools and technologies Apple is using to drive innovation and improvement across its product lines.\", additional_kwargs={}, response_metadata={'token_usage': {'completion_tokens': 554, 'prompt_tokens': 85, 'total_tokens': 639, 'completion_time': 0.820680595, 'prompt_time': 0.004989938, 'queue_time': 0.051505892, 'total_time': 0.825670533}, 'model_name': 'llama-3.1-8b-instant', 'system_fingerprint': 'fp_510c177af0', 'service_tier': 'on_demand', 'finish_reason': 'stop', 'logprobs': None}, id='run--53ba79ea-2eb6-4e1c-88a7-b541a0bb3be1-0', usage_metadata={'input_tokens': 85, 'output_tokens': 554, 'total_tokens': 639})]}"
      ]
     },
     "execution_count": 12,
     "metadata": {},
     "output_type": "execute_result"
    }
   ],
   "source": [
    "final_workflow.invoke({\"messages\":\"Research about the tools and technolgies apple company is using\"})"
   ]
  },
  {
   "cell_type": "code",
   "execution_count": 13,
   "id": "fb933b77",
   "metadata": {},
   "outputs": [],
   "source": [
    "response=final_workflow.invoke({\"messages\":\"Research about the tools and technolgies apple company is using\"})"
   ]
  },
  {
   "cell_type": "code",
   "execution_count": 14,
   "id": "5661de85",
   "metadata": {},
   "outputs": [
    {
     "data": {
      "text/plain": [
       "\" \\n\\nBased on the research, Apple company is utilizing a wide range of cutting-edge tools and technologies across various departments. Here's a summary:\\n\\n**Hardware:**\\n\\n1. **M1 Chip:** Apple's M1 chip is a system-on-a-chip (SoC) designed in-house, combining CPU, GPU, and Neural Engine capabilities. It powers Apple's latest Mac lineup, offering improved performance, power efficiency, and security.\\n2. **ARM Architecture:** Apple's transition to ARM-based processors for their Mac lineup, using the M1 chip, provides a more efficient and secure architecture.\\n3. **Retina Displays:** Apple's Retina displays offer high-resolution visuals, with technologies like True Tone and P3 color gamut for enhanced color accuracy and viewing experiences.\\n\\n**Software:**\\n\\n1. **iOS and iPadOS:** Apple's mobile operating systems, iOS and iPadOS, provide a seamless user experience, with features like Face ID, Touch ID, and Siri.\\n2. **macOS:** Apple's desktop operating system, macOS, offers a robust and secure platform for Mac users, with features like Continuity, Handoff, and Universal Clipboard.\\n3. **watchOS:** Apple's wearable operating system, watchOS, powers the Apple Watch, enabling fitness tracking, notification management, and integration with other Apple devices.\\n\\n**Artificial Intelligence and Machine Learning:**\\n\\n1. **Core ML:** Apple's Core ML framework provides a seamless integration of machine learning models into iOS, macOS, watchOS, and tvOS applications.\\n2. **Neural Engine:** Apple's Neural Engine is a dedicated AI processing unit (APU) that accelerates machine learning computations, improving performance and power efficiency.\\n3. **Siri:** Apple's virtual assistant, Siri, utilizes machine learning to provide personalized responses and perform tasks.\\n\\n**Security:**\\n\\n1. **Secure Enclave:** Apple's Secure Enclave provides a dedicated, isolated environment for sensitive data, protecting it from unauthorized access.\\n2. **Face ID:** Apple's facial recognition technology, Face ID, offers enhanced biometric security for iOS and iPadOS devices.\\n3. **Encryption:** Apple's devices and services use end-to-end encryption to protect user data, ensuring confidentiality and integrity.\\n\\n**Other Tools and Technologies:**\\n\\n1. **Swift:** Apple's Swift programming language provides a modern, safe, and efficient way to develop iOS, macOS, watchOS, and tvOS applications.\\n2. **Xcode:** Apple's integrated development environment (IDE), Xcode, offers a comprehensive set of tools for developing, testing, and debugging Apple applications.\\n3. **CloudKit:** Apple's CloudKit framework provides a scalable, secure, and easy-to-use platform for storing and managing data in the cloud.\\n\\nIn summary, Apple company is utilizing a wide range of cutting-edge tools and technologies to develop innovative products and services, focusing on security, performance, and user experience.\""
      ]
     },
     "execution_count": 14,
     "metadata": {},
     "output_type": "execute_result"
    }
   ],
   "source": [
    "response[\"messages\"][-1].content"
   ]
  }
 ],
 "metadata": {
  "kernelspec": {
   "display_name": "AGENTICAI",
   "language": "python",
   "name": "python3"
  },
  "language_info": {
   "codemirror_mode": {
    "name": "ipython",
    "version": 3
   },
   "file_extension": ".py",
   "mimetype": "text/x-python",
   "name": "python",
   "nbconvert_exporter": "python",
   "pygments_lexer": "ipython3",
   "version": "3.13.1"
  }
 },
 "nbformat": 4,
 "nbformat_minor": 5
}
